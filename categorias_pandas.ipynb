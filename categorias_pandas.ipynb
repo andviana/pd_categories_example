{
 "cells": [
  {
   "cell_type": "markdown",
   "id": "a7f68e9e-9878-43b5-9c17-c34a4d2caa52",
   "metadata": {},
   "source": [
    "# Como criar Categorias no Pandas\n",
    "- youtube:\n",
    "https://www.youtube.com/watch?v=yjCtRmc4D7Q\n",
    "\n",
    "- base no kaggle:\n",
    "https://www.kaggle.com/datasets/jsphyg/tipping\n",
    "\n"
   ]
  },
  {
   "cell_type": "code",
   "execution_count": 2,
   "id": "53afb61a-5ef5-48c2-8510-1e3b96948ac4",
   "metadata": {},
   "outputs": [
    {
     "data": {
      "text/html": [
       "<div>\n",
       "<style scoped>\n",
       "    .dataframe tbody tr th:only-of-type {\n",
       "        vertical-align: middle;\n",
       "    }\n",
       "\n",
       "    .dataframe tbody tr th {\n",
       "        vertical-align: top;\n",
       "    }\n",
       "\n",
       "    .dataframe thead th {\n",
       "        text-align: right;\n",
       "    }\n",
       "</style>\n",
       "<table border=\"1\" class=\"dataframe\">\n",
       "  <thead>\n",
       "    <tr style=\"text-align: right;\">\n",
       "      <th></th>\n",
       "      <th>total_bill</th>\n",
       "      <th>tip</th>\n",
       "      <th>sex</th>\n",
       "      <th>smoker</th>\n",
       "      <th>day</th>\n",
       "      <th>time</th>\n",
       "      <th>size</th>\n",
       "    </tr>\n",
       "  </thead>\n",
       "  <tbody>\n",
       "    <tr>\n",
       "      <th>0</th>\n",
       "      <td>16.99</td>\n",
       "      <td>1.01</td>\n",
       "      <td>Female</td>\n",
       "      <td>No</td>\n",
       "      <td>Sun</td>\n",
       "      <td>Dinner</td>\n",
       "      <td>2</td>\n",
       "    </tr>\n",
       "    <tr>\n",
       "      <th>1</th>\n",
       "      <td>10.34</td>\n",
       "      <td>1.66</td>\n",
       "      <td>Male</td>\n",
       "      <td>No</td>\n",
       "      <td>Sun</td>\n",
       "      <td>Dinner</td>\n",
       "      <td>3</td>\n",
       "    </tr>\n",
       "    <tr>\n",
       "      <th>2</th>\n",
       "      <td>21.01</td>\n",
       "      <td>3.50</td>\n",
       "      <td>Male</td>\n",
       "      <td>No</td>\n",
       "      <td>Sun</td>\n",
       "      <td>Dinner</td>\n",
       "      <td>3</td>\n",
       "    </tr>\n",
       "    <tr>\n",
       "      <th>3</th>\n",
       "      <td>23.68</td>\n",
       "      <td>3.31</td>\n",
       "      <td>Male</td>\n",
       "      <td>No</td>\n",
       "      <td>Sun</td>\n",
       "      <td>Dinner</td>\n",
       "      <td>2</td>\n",
       "    </tr>\n",
       "    <tr>\n",
       "      <th>4</th>\n",
       "      <td>24.59</td>\n",
       "      <td>3.61</td>\n",
       "      <td>Female</td>\n",
       "      <td>No</td>\n",
       "      <td>Sun</td>\n",
       "      <td>Dinner</td>\n",
       "      <td>4</td>\n",
       "    </tr>\n",
       "  </tbody>\n",
       "</table>\n",
       "</div>"
      ],
      "text/plain": [
       "   total_bill   tip     sex smoker  day    time  size\n",
       "0       16.99  1.01  Female     No  Sun  Dinner     2\n",
       "1       10.34  1.66    Male     No  Sun  Dinner     3\n",
       "2       21.01  3.50    Male     No  Sun  Dinner     3\n",
       "3       23.68  3.31    Male     No  Sun  Dinner     2\n",
       "4       24.59  3.61  Female     No  Sun  Dinner     4"
      ]
     },
     "execution_count": 2,
     "metadata": {},
     "output_type": "execute_result"
    }
   ],
   "source": [
    "# importando o pandas\n",
    "import pandas as pd\n",
    "\n",
    "DADOS = \"tips.csv\"\n",
    "\n",
    "df = pd.read_csv(DADOS)\n",
    "df.head()"
   ]
  },
  {
   "cell_type": "markdown",
   "id": "79db28e9-2d0e-4bae-a7d4-aac15d606c3e",
   "metadata": {},
   "source": [
    "## Reconhecendo a base"
   ]
  },
  {
   "cell_type": "code",
   "execution_count": 7,
   "id": "5c516450-95ed-4692-80a9-0c7d436f38ef",
   "metadata": {},
   "outputs": [
    {
     "name": "stdout",
     "output_type": "stream",
     "text": [
      "<class 'pandas.core.frame.DataFrame'>\n",
      "RangeIndex: 244 entries, 0 to 243\n",
      "Data columns (total 7 columns):\n",
      " #   Column      Non-Null Count  Dtype  \n",
      "---  ------      --------------  -----  \n",
      " 0   total_bill  244 non-null    float64\n",
      " 1   tip         244 non-null    float64\n",
      " 2   sex         244 non-null    object \n",
      " 3   smoker      244 non-null    object \n",
      " 4   day         244 non-null    object \n",
      " 5   time        244 non-null    object \n",
      " 6   size        244 non-null    int64  \n",
      "dtypes: float64(2), int64(1), object(4)\n",
      "memory usage: 13.5+ KB\n"
     ]
    }
   ],
   "source": [
    "df.info()"
   ]
  },
  {
   "cell_type": "code",
   "execution_count": 11,
   "id": "0f97fa53-8068-4bea-a5d8-af195d5459a2",
   "metadata": {},
   "outputs": [
    {
     "data": {
      "text/html": [
       "<div>\n",
       "<style scoped>\n",
       "    .dataframe tbody tr th:only-of-type {\n",
       "        vertical-align: middle;\n",
       "    }\n",
       "\n",
       "    .dataframe tbody tr th {\n",
       "        vertical-align: top;\n",
       "    }\n",
       "\n",
       "    .dataframe thead th {\n",
       "        text-align: right;\n",
       "    }\n",
       "</style>\n",
       "<table border=\"1\" class=\"dataframe\">\n",
       "  <thead>\n",
       "    <tr style=\"text-align: right;\">\n",
       "      <th></th>\n",
       "      <th>sex</th>\n",
       "      <th>smoker</th>\n",
       "      <th>day</th>\n",
       "      <th>time</th>\n",
       "    </tr>\n",
       "  </thead>\n",
       "  <tbody>\n",
       "    <tr>\n",
       "      <th>count</th>\n",
       "      <td>244</td>\n",
       "      <td>244</td>\n",
       "      <td>244</td>\n",
       "      <td>244</td>\n",
       "    </tr>\n",
       "    <tr>\n",
       "      <th>unique</th>\n",
       "      <td>2</td>\n",
       "      <td>2</td>\n",
       "      <td>4</td>\n",
       "      <td>2</td>\n",
       "    </tr>\n",
       "    <tr>\n",
       "      <th>top</th>\n",
       "      <td>Male</td>\n",
       "      <td>No</td>\n",
       "      <td>Sat</td>\n",
       "      <td>Dinner</td>\n",
       "    </tr>\n",
       "    <tr>\n",
       "      <th>freq</th>\n",
       "      <td>157</td>\n",
       "      <td>151</td>\n",
       "      <td>87</td>\n",
       "      <td>176</td>\n",
       "    </tr>\n",
       "  </tbody>\n",
       "</table>\n",
       "</div>"
      ],
      "text/plain": [
       "         sex smoker  day    time\n",
       "count    244    244  244     244\n",
       "unique     2      2    4       2\n",
       "top     Male     No  Sat  Dinner\n",
       "freq     157    151   87     176"
      ]
     },
     "execution_count": 11,
     "metadata": {},
     "output_type": "execute_result"
    }
   ],
   "source": [
    "df.describe(exclude='number')"
   ]
  },
  {
   "cell_type": "code",
   "execution_count": 9,
   "id": "d74229e2-3a9f-4b48-bf97-320a019c5ddd",
   "metadata": {},
   "outputs": [
    {
     "data": {
      "text/html": [
       "<div>\n",
       "<style scoped>\n",
       "    .dataframe tbody tr th:only-of-type {\n",
       "        vertical-align: middle;\n",
       "    }\n",
       "\n",
       "    .dataframe tbody tr th {\n",
       "        vertical-align: top;\n",
       "    }\n",
       "\n",
       "    .dataframe thead th {\n",
       "        text-align: right;\n",
       "    }\n",
       "</style>\n",
       "<table border=\"1\" class=\"dataframe\">\n",
       "  <thead>\n",
       "    <tr style=\"text-align: right;\">\n",
       "      <th></th>\n",
       "      <th>total_bill</th>\n",
       "      <th>tip</th>\n",
       "      <th>size</th>\n",
       "    </tr>\n",
       "  </thead>\n",
       "  <tbody>\n",
       "    <tr>\n",
       "      <th>count</th>\n",
       "      <td>244.000000</td>\n",
       "      <td>244.000000</td>\n",
       "      <td>244.000000</td>\n",
       "    </tr>\n",
       "    <tr>\n",
       "      <th>mean</th>\n",
       "      <td>19.785943</td>\n",
       "      <td>2.998279</td>\n",
       "      <td>2.569672</td>\n",
       "    </tr>\n",
       "    <tr>\n",
       "      <th>std</th>\n",
       "      <td>8.902412</td>\n",
       "      <td>1.383638</td>\n",
       "      <td>0.951100</td>\n",
       "    </tr>\n",
       "    <tr>\n",
       "      <th>min</th>\n",
       "      <td>3.070000</td>\n",
       "      <td>1.000000</td>\n",
       "      <td>1.000000</td>\n",
       "    </tr>\n",
       "    <tr>\n",
       "      <th>25%</th>\n",
       "      <td>13.347500</td>\n",
       "      <td>2.000000</td>\n",
       "      <td>2.000000</td>\n",
       "    </tr>\n",
       "    <tr>\n",
       "      <th>50%</th>\n",
       "      <td>17.795000</td>\n",
       "      <td>2.900000</td>\n",
       "      <td>2.000000</td>\n",
       "    </tr>\n",
       "    <tr>\n",
       "      <th>75%</th>\n",
       "      <td>24.127500</td>\n",
       "      <td>3.562500</td>\n",
       "      <td>3.000000</td>\n",
       "    </tr>\n",
       "    <tr>\n",
       "      <th>max</th>\n",
       "      <td>50.810000</td>\n",
       "      <td>10.000000</td>\n",
       "      <td>6.000000</td>\n",
       "    </tr>\n",
       "  </tbody>\n",
       "</table>\n",
       "</div>"
      ],
      "text/plain": [
       "       total_bill         tip        size\n",
       "count  244.000000  244.000000  244.000000\n",
       "mean    19.785943    2.998279    2.569672\n",
       "std      8.902412    1.383638    0.951100\n",
       "min      3.070000    1.000000    1.000000\n",
       "25%     13.347500    2.000000    2.000000\n",
       "50%     17.795000    2.900000    2.000000\n",
       "75%     24.127500    3.562500    3.000000\n",
       "max     50.810000   10.000000    6.000000"
      ]
     },
     "execution_count": 9,
     "metadata": {},
     "output_type": "execute_result"
    }
   ],
   "source": [
    "df.describe()"
   ]
  },
  {
   "cell_type": "code",
   "execution_count": 40,
   "id": "bf2bd22c-dcd1-425f-8c45-6d97e5beb0e8",
   "metadata": {},
   "outputs": [
    {
     "data": {
      "text/plain": [
       "day\n",
       "Sat     87\n",
       "Sun     76\n",
       "Thur    62\n",
       "Fri     19\n",
       "Name: count, dtype: int64"
      ]
     },
     "execution_count": 40,
     "metadata": {},
     "output_type": "execute_result"
    }
   ],
   "source": [
    "df['day'].value_counts()"
   ]
  },
  {
   "cell_type": "code",
   "execution_count": 21,
   "id": "08980037-4ec6-4256-9747-c4fb859c2dd2",
   "metadata": {},
   "outputs": [
    {
     "name": "stdout",
     "output_type": "stream",
     "text": [
      "sex:['Female' 'Male']\n",
      "smoker:['No' 'Yes']\n",
      "day:['Sun' 'Sat' 'Thur' 'Fri']\n",
      "time:['Dinner' 'Lunch']\n"
     ]
    }
   ],
   "source": [
    "for coluna in df.select_dtypes(include=\"object\"):\n",
    "    print(f\"{coluna}:{df[coluna].unique()}\")"
   ]
  },
  {
   "cell_type": "code",
   "execution_count": 23,
   "id": "61921bd2-411b-4acc-bf67-404af8db17c8",
   "metadata": {},
   "outputs": [
    {
     "data": {
      "text/plain": [
       "<Axes: >"
      ]
     },
     "execution_count": 23,
     "metadata": {},
     "output_type": "execute_result"
    },
    {
     "data": {
      "image/png": "[encoded data removed]",
      "text/plain": [
       "<Figure size 640x480 with 1 Axes>"
      ]
     },
     "metadata": {},
     "output_type": "display_data"
    }
   ],
   "source": [
    "df[\"tip\"].hist()"
   ]
  },
  {
   "cell_type": "code",
   "execution_count": 27,
   "id": "d0d70886-37b8-4ab0-a24a-6449756a1c2a",
   "metadata": {},
   "outputs": [
    {
     "data": {
      "text/plain": [
       "(1.9, 2.8]     79\n",
       "(2.8, 3.7]     66\n",
       "(0.99, 1.9]    41\n",
       "(3.7, 4.6]     27\n",
       "(4.6, 5.5]     19\n",
       "(5.5, 6.4]      5\n",
       "(6.4, 7.3]      4\n",
       "(7.3, 8.2]      1\n",
       "(8.2, 9.1]      1\n",
       "(9.1, 10.0]     1\n",
       "Name: count, dtype: int64"
      ]
     },
     "execution_count": 27,
     "metadata": {},
     "output_type": "execute_result"
    }
   ],
   "source": [
    "df['tip'].value_counts(bins=10)"
   ]
  },
  {
   "cell_type": "code",
   "execution_count": 29,
   "id": "d7e594ad-95a1-4c94-a646-9bada3657deb",
   "metadata": {},
   "outputs": [
    {
     "data": {
      "text/plain": [
       "(0.99, 1.9]    41\n",
       "(1.9, 2.8]     79\n",
       "(2.8, 3.7]     66\n",
       "(3.7, 4.6]     27\n",
       "(4.6, 5.5]     19\n",
       "(5.5, 6.4]      5\n",
       "(6.4, 7.3]      4\n",
       "(7.3, 8.2]      1\n",
       "(8.2, 9.1]      1\n",
       "(9.1, 10.0]     1\n",
       "Name: count, dtype: int64"
      ]
     },
     "execution_count": 29,
     "metadata": {},
     "output_type": "execute_result"
    }
   ],
   "source": [
    "df['tip'].value_counts(bins=10).sort_index()"
   ]
  },
  {
   "cell_type": "markdown",
   "id": "ecb4ecc9-ec72-44ac-9138-fd561bdf29d3",
   "metadata": {},
   "source": [
    "## Pandas Cut"
   ]
  },
  {
   "cell_type": "code",
   "execution_count": 34,
   "id": "59310932-24be-475c-af9d-84b8a340ff66",
   "metadata": {},
   "outputs": [
    {
     "data": {
      "text/html": [
       "<div>\n",
       "<style scoped>\n",
       "    .dataframe tbody tr th:only-of-type {\n",
       "        vertical-align: middle;\n",
       "    }\n",
       "\n",
       "    .dataframe tbody tr th {\n",
       "        vertical-align: top;\n",
       "    }\n",
       "\n",
       "    .dataframe thead th {\n",
       "        text-align: right;\n",
       "    }\n",
       "</style>\n",
       "<table border=\"1\" class=\"dataframe\">\n",
       "  <thead>\n",
       "    <tr style=\"text-align: right;\">\n",
       "      <th></th>\n",
       "      <th>total_bill</th>\n",
       "      <th>tip</th>\n",
       "      <th>sex</th>\n",
       "      <th>smoker</th>\n",
       "      <th>day</th>\n",
       "      <th>time</th>\n",
       "      <th>size</th>\n",
       "      <th>categoria_tip</th>\n",
       "    </tr>\n",
       "  </thead>\n",
       "  <tbody>\n",
       "    <tr>\n",
       "      <th>0</th>\n",
       "      <td>16.99</td>\n",
       "      <td>1.01</td>\n",
       "      <td>Female</td>\n",
       "      <td>No</td>\n",
       "      <td>Sun</td>\n",
       "      <td>Dinner</td>\n",
       "      <td>2</td>\n",
       "      <td>baixo</td>\n",
       "    </tr>\n",
       "    <tr>\n",
       "      <th>1</th>\n",
       "      <td>10.34</td>\n",
       "      <td>1.66</td>\n",
       "      <td>Male</td>\n",
       "      <td>No</td>\n",
       "      <td>Sun</td>\n",
       "      <td>Dinner</td>\n",
       "      <td>3</td>\n",
       "      <td>baixo</td>\n",
       "    </tr>\n",
       "    <tr>\n",
       "      <th>2</th>\n",
       "      <td>21.01</td>\n",
       "      <td>3.50</td>\n",
       "      <td>Male</td>\n",
       "      <td>No</td>\n",
       "      <td>Sun</td>\n",
       "      <td>Dinner</td>\n",
       "      <td>3</td>\n",
       "      <td>medio</td>\n",
       "    </tr>\n",
       "    <tr>\n",
       "      <th>3</th>\n",
       "      <td>23.68</td>\n",
       "      <td>3.31</td>\n",
       "      <td>Male</td>\n",
       "      <td>No</td>\n",
       "      <td>Sun</td>\n",
       "      <td>Dinner</td>\n",
       "      <td>2</td>\n",
       "      <td>medio</td>\n",
       "    </tr>\n",
       "    <tr>\n",
       "      <th>4</th>\n",
       "      <td>24.59</td>\n",
       "      <td>3.61</td>\n",
       "      <td>Female</td>\n",
       "      <td>No</td>\n",
       "      <td>Sun</td>\n",
       "      <td>Dinner</td>\n",
       "      <td>4</td>\n",
       "      <td>medio</td>\n",
       "    </tr>\n",
       "  </tbody>\n",
       "</table>\n",
       "</div>"
      ],
      "text/plain": [
       "   total_bill   tip     sex smoker  day    time  size categoria_tip\n",
       "0       16.99  1.01  Female     No  Sun  Dinner     2         baixo\n",
       "1       10.34  1.66    Male     No  Sun  Dinner     3         baixo\n",
       "2       21.01  3.50    Male     No  Sun  Dinner     3         medio\n",
       "3       23.68  3.31    Male     No  Sun  Dinner     2         medio\n",
       "4       24.59  3.61  Female     No  Sun  Dinner     4         medio"
      ]
     },
     "execution_count": 34,
     "metadata": {},
     "output_type": "execute_result"
    }
   ],
   "source": [
    "# (0,2],(2,5],(5,inf]\n",
    "\n",
    "faixas = [0,2,5,float('inf')]\n",
    "categorias = ['baixo','medio', 'alto']\n",
    "\n",
    "df['categoria_tip'] = pd.cut(df[\"tip\"], bins=faixas, labels=categorias)\n",
    "df.head()\n",
    "                      "
   ]
  },
  {
   "cell_type": "code",
   "execution_count": 36,
   "id": "406dbc77-7bf1-4f3c-addd-7b8a899730fb",
   "metadata": {},
   "outputs": [
    {
     "data": {
      "text/plain": [
       "categoria_tip\n",
       "medio    148\n",
       "baixo     78\n",
       "alto      18\n",
       "Name: count, dtype: int64"
      ]
     },
     "execution_count": 36,
     "metadata": {},
     "output_type": "execute_result"
    }
   ],
   "source": [
    "df['categoria_tip'].value_counts()"
   ]
  },
  {
   "cell_type": "code",
   "execution_count": 42,
   "id": "eb9d11d9-bfb1-4252-900a-a23c1b3516a2",
   "metadata": {},
   "outputs": [
    {
     "data": {
      "text/plain": [
       "categoria_tip\n",
       "medio    0.606557\n",
       "baixo    0.319672\n",
       "alto     0.073770\n",
       "Name: proportion, dtype: float64"
      ]
     },
     "execution_count": 42,
     "metadata": {},
     "output_type": "execute_result"
    }
   ],
   "source": [
    "df['categoria_tip'].value_counts(normalize=True)"
   ]
  },
  {
   "cell_type": "code",
   "execution_count": 44,
   "id": "50763de1-81a2-48af-a2aa-838f284bd639",
   "metadata": {},
   "outputs": [
    {
     "name": "stdout",
     "output_type": "stream",
     "text": [
      "<class 'pandas.core.frame.DataFrame'>\n",
      "RangeIndex: 244 entries, 0 to 243\n",
      "Data columns (total 8 columns):\n",
      " #   Column         Non-Null Count  Dtype   \n",
      "---  ------         --------------  -----   \n",
      " 0   total_bill     244 non-null    float64 \n",
      " 1   tip            244 non-null    float64 \n",
      " 2   sex            244 non-null    object  \n",
      " 3   smoker         244 non-null    object  \n",
      " 4   day            244 non-null    object  \n",
      " 5   time           244 non-null    object  \n",
      " 6   size           244 non-null    int64   \n",
      " 7   categoria_tip  244 non-null    category\n",
      "dtypes: category(1), float64(2), int64(1), object(4)\n",
      "memory usage: 13.8+ KB\n"
     ]
    }
   ],
   "source": [
    "df.info()"
   ]
  },
  {
   "cell_type": "code",
   "execution_count": 46,
   "id": "33477615-b19d-466c-8326-d559441bc847",
   "metadata": {},
   "outputs": [
    {
     "data": {
      "text/plain": [
       "0      baixo\n",
       "1      baixo\n",
       "2      medio\n",
       "3      medio\n",
       "4      medio\n",
       "       ...  \n",
       "239     alto\n",
       "240    baixo\n",
       "241    baixo\n",
       "242    baixo\n",
       "243    medio\n",
       "Name: categoria_tip, Length: 244, dtype: category\n",
       "Categories (3, object): ['baixo' < 'medio' < 'alto']"
      ]
     },
     "execution_count": 46,
     "metadata": {},
     "output_type": "execute_result"
    }
   ],
   "source": [
    "df['categoria_tip']"
   ]
  },
  {
   "cell_type": "code",
   "execution_count": 48,
   "id": "6e79ca31-08d9-4830-a396-725e35832da8",
   "metadata": {},
   "outputs": [
    {
     "data": {
      "text/plain": [
       "Index(['baixo', 'medio', 'alto'], dtype='object')"
      ]
     },
     "execution_count": 48,
     "metadata": {},
     "output_type": "execute_result"
    }
   ],
   "source": [
    "df['categoria_tip'].cat.categories"
   ]
  },
  {
   "cell_type": "code",
   "execution_count": 52,
   "id": "2cc5c700-934d-48ba-a054-767654a32a01",
   "metadata": {},
   "outputs": [
    {
     "data": {
      "text/plain": [
       "['baixo', 'medio', 'alto']\n",
       "Categories (3, object): ['baixo' < 'medio' < 'alto']"
      ]
     },
     "execution_count": 52,
     "metadata": {},
     "output_type": "execute_result"
    }
   ],
   "source": [
    "df['categoria_tip'].unique()"
   ]
  },
  {
   "cell_type": "code",
   "execution_count": 54,
   "id": "44d937e1-7806-4d1a-bb7a-451594417384",
   "metadata": {},
   "outputs": [
    {
     "data": {
      "text/plain": [
       "True"
      ]
     },
     "execution_count": 54,
     "metadata": {},
     "output_type": "execute_result"
    }
   ],
   "source": [
    "df['categoria_tip'].cat.ordered"
   ]
  },
  {
   "cell_type": "code",
   "execution_count": 56,
   "id": "c2ba8d87-8feb-4f80-a4bf-7e4fffc1e05b",
   "metadata": {},
   "outputs": [
    {
     "data": {
      "text/plain": [
       "0      0\n",
       "1      0\n",
       "2      1\n",
       "3      1\n",
       "4      1\n",
       "      ..\n",
       "239    2\n",
       "240    0\n",
       "241    0\n",
       "242    0\n",
       "243    1\n",
       "Length: 244, dtype: int8"
      ]
     },
     "execution_count": 56,
     "metadata": {},
     "output_type": "execute_result"
    }
   ],
   "source": [
    "df['categoria_tip'].cat.codes"
   ]
  },
  {
   "cell_type": "markdown",
   "id": "54b58242-c670-4198-9ca2-791da7fd4290",
   "metadata": {},
   "source": [
    "## Criando categorias em outras colunas"
   ]
  },
  {
   "cell_type": "code",
   "execution_count": 62,
   "id": "c5c333e3-6537-4221-be61-87a2133232ad",
   "metadata": {},
   "outputs": [
    {
     "data": {
      "text/plain": [
       "Index(['total_bill', 'tip', 'sex', 'smoker', 'day', 'time', 'size',\n",
       "       'categoria_tip'],\n",
       "      dtype='object')"
      ]
     },
     "execution_count": 62,
     "metadata": {},
     "output_type": "execute_result"
    }
   ],
   "source": [
    "df.columns"
   ]
  },
  {
   "cell_type": "code",
   "execution_count": 66,
   "id": "09e4a98f-c741-4427-bb59-55669cbbb9f7",
   "metadata": {},
   "outputs": [
    {
     "data": {
      "text/html": [
       "<div>\n",
       "<style scoped>\n",
       "    .dataframe tbody tr th:only-of-type {\n",
       "        vertical-align: middle;\n",
       "    }\n",
       "\n",
       "    .dataframe tbody tr th {\n",
       "        vertical-align: top;\n",
       "    }\n",
       "\n",
       "    .dataframe thead th {\n",
       "        text-align: right;\n",
       "    }\n",
       "</style>\n",
       "<table border=\"1\" class=\"dataframe\">\n",
       "  <thead>\n",
       "    <tr style=\"text-align: right;\">\n",
       "      <th></th>\n",
       "      <th>total_bill</th>\n",
       "      <th>tip</th>\n",
       "      <th>sex</th>\n",
       "      <th>smoker</th>\n",
       "      <th>day</th>\n",
       "      <th>time</th>\n",
       "      <th>size</th>\n",
       "      <th>categoria_tip</th>\n",
       "    </tr>\n",
       "  </thead>\n",
       "  <tbody>\n",
       "    <tr>\n",
       "      <th>0</th>\n",
       "      <td>16.99</td>\n",
       "      <td>1.01</td>\n",
       "      <td>Female</td>\n",
       "      <td>No</td>\n",
       "      <td>Sun</td>\n",
       "      <td>Dinner</td>\n",
       "      <td>2</td>\n",
       "      <td>baixo</td>\n",
       "    </tr>\n",
       "    <tr>\n",
       "      <th>1</th>\n",
       "      <td>10.34</td>\n",
       "      <td>1.66</td>\n",
       "      <td>Male</td>\n",
       "      <td>No</td>\n",
       "      <td>Sun</td>\n",
       "      <td>Dinner</td>\n",
       "      <td>3</td>\n",
       "      <td>baixo</td>\n",
       "    </tr>\n",
       "    <tr>\n",
       "      <th>2</th>\n",
       "      <td>21.01</td>\n",
       "      <td>3.50</td>\n",
       "      <td>Male</td>\n",
       "      <td>No</td>\n",
       "      <td>Sun</td>\n",
       "      <td>Dinner</td>\n",
       "      <td>3</td>\n",
       "      <td>medio</td>\n",
       "    </tr>\n",
       "    <tr>\n",
       "      <th>3</th>\n",
       "      <td>23.68</td>\n",
       "      <td>3.31</td>\n",
       "      <td>Male</td>\n",
       "      <td>No</td>\n",
       "      <td>Sun</td>\n",
       "      <td>Dinner</td>\n",
       "      <td>2</td>\n",
       "      <td>medio</td>\n",
       "    </tr>\n",
       "    <tr>\n",
       "      <th>4</th>\n",
       "      <td>24.59</td>\n",
       "      <td>3.61</td>\n",
       "      <td>Female</td>\n",
       "      <td>No</td>\n",
       "      <td>Sun</td>\n",
       "      <td>Dinner</td>\n",
       "      <td>4</td>\n",
       "      <td>medio</td>\n",
       "    </tr>\n",
       "  </tbody>\n",
       "</table>\n",
       "</div>"
      ],
      "text/plain": [
       "   total_bill   tip     sex smoker  day    time  size categoria_tip\n",
       "0       16.99  1.01  Female     No  Sun  Dinner     2         baixo\n",
       "1       10.34  1.66    Male     No  Sun  Dinner     3         baixo\n",
       "2       21.01  3.50    Male     No  Sun  Dinner     3         medio\n",
       "3       23.68  3.31    Male     No  Sun  Dinner     2         medio\n",
       "4       24.59  3.61  Female     No  Sun  Dinner     4         medio"
      ]
     },
     "execution_count": 66,
     "metadata": {},
     "output_type": "execute_result"
    }
   ],
   "source": [
    "colunas_categoricas = [\"sex\", \"smoker\", \"day\", \"time\" ]\n",
    "\n",
    "df_categorizado = df.copy()\n",
    "\n",
    "for coluna in colunas_categoricas:\n",
    "    df_categorizado[coluna] = df_categorizado[coluna].astype(\"category\")\n",
    "\n",
    "df_categorizado.head()"
   ]
  },
  {
   "cell_type": "code",
   "execution_count": 68,
   "id": "2cd7ba8a-320f-4cf8-896d-d6072d941815",
   "metadata": {},
   "outputs": [
    {
     "name": "stdout",
     "output_type": "stream",
     "text": [
      "<class 'pandas.core.frame.DataFrame'>\n",
      "RangeIndex: 244 entries, 0 to 243\n",
      "Data columns (total 8 columns):\n",
      " #   Column         Non-Null Count  Dtype   \n",
      "---  ------         --------------  -----   \n",
      " 0   total_bill     244 non-null    float64 \n",
      " 1   tip            244 non-null    float64 \n",
      " 2   sex            244 non-null    category\n",
      " 3   smoker         244 non-null    category\n",
      " 4   day            244 non-null    category\n",
      " 5   time           244 non-null    category\n",
      " 6   size           244 non-null    int64   \n",
      " 7   categoria_tip  244 non-null    category\n",
      "dtypes: category(5), float64(2), int64(1)\n",
      "memory usage: 7.7 KB\n"
     ]
    }
   ],
   "source": [
    "df_categorizado.info()"
   ]
  },
  {
   "cell_type": "code",
   "execution_count": 82,
   "id": "5b34143e-b79f-4a48-83cf-dd3e62c399f7",
   "metadata": {},
   "outputs": [
    {
     "name": "stdout",
     "output_type": "stream",
     "text": [
      "sex: ['Female', 'Male']\n",
      "Categories (2, object): ['Female', 'Male']\n",
      "sex.cat.categories: Index(['Female', 'Male'], dtype='object')\n",
      "sex.cat.ordered: False\n",
      "\n",
      "smoker: ['No', 'Yes']\n",
      "Categories (2, object): ['No', 'Yes']\n",
      "smoker.cat.categories: Index(['No', 'Yes'], dtype='object')\n",
      "smoker.cat.ordered: False\n",
      "\n",
      "day: ['Sun', 'Sat', 'Thur', 'Fri']\n",
      "Categories (4, object): ['Fri', 'Sat', 'Sun', 'Thur']\n",
      "day.cat.categories: Index(['Fri', 'Sat', 'Sun', 'Thur'], dtype='object')\n",
      "day.cat.ordered: False\n",
      "\n",
      "time: ['Dinner', 'Lunch']\n",
      "Categories (2, object): ['Dinner', 'Lunch']\n",
      "time.cat.categories: Index(['Dinner', 'Lunch'], dtype='object')\n",
      "time.cat.ordered: False\n",
      "\n",
      "categoria_tip: ['baixo', 'medio', 'alto']\n",
      "Categories (3, object): ['baixo' < 'medio' < 'alto']\n",
      "categoria_tip.cat.categories: Index(['baixo', 'medio', 'alto'], dtype='object')\n",
      "categoria_tip.cat.ordered: True\n",
      "\n"
     ]
    }
   ],
   "source": [
    "for coluna in df_categorizado.select_dtypes(include=\"category\"):\n",
    "    print(f\"{coluna}: {df_categorizado[coluna].unique()}\")\n",
    "    print(f\"{coluna}.cat.categories: {df_categorizado[coluna].cat.categories}\")\n",
    "    print(f\"{coluna}.cat.ordered: {df_categorizado[coluna].cat.ordered}\")\n",
    "    print()"
   ]
  },
  {
   "cell_type": "markdown",
   "id": "5f0a8585-44d0-4f69-96c3-23171ea78c2d",
   "metadata": {},
   "source": [
    "## Categorias ordenadas"
   ]
  },
  {
   "cell_type": "code",
   "execution_count": 85,
   "id": "2eea188d-a011-46ec-9072-6e23ac34626c",
   "metadata": {},
   "outputs": [
    {
     "data": {
      "text/plain": [
       "day\n",
       "Sat     87\n",
       "Sun     76\n",
       "Thur    62\n",
       "Fri     19\n",
       "Name: count, dtype: int64"
      ]
     },
     "execution_count": 85,
     "metadata": {},
     "output_type": "execute_result"
    }
   ],
   "source": [
    "df_categorizado[\"day\"].value_counts()"
   ]
  },
  {
   "cell_type": "code",
   "execution_count": 87,
   "id": "9157d5d2-9919-4a50-88b0-320697c36740",
   "metadata": {},
   "outputs": [
    {
     "data": {
      "text/plain": [
       "day\n",
       "Fri     19\n",
       "Sat     87\n",
       "Sun     76\n",
       "Thur    62\n",
       "Name: count, dtype: int64"
      ]
     },
     "execution_count": 87,
     "metadata": {},
     "output_type": "execute_result"
    }
   ],
   "source": [
    "df_categorizado[\"day\"].value_counts().sort_index()"
   ]
  },
  {
   "cell_type": "code",
   "execution_count": 89,
   "id": "2e71e757-fed3-44f5-b028-3d92e6a6082a",
   "metadata": {},
   "outputs": [],
   "source": [
    "# ele automaticamente categorizou em ordem alfabetica, assim que reconheceu que é texto\n",
    "\n",
    "# veremos adiante como corrigir esse ordenamento"
   ]
  },
  {
   "cell_type": "code",
   "execution_count": 91,
   "id": "6e4d7588-929d-49e1-a0fc-3e40062134d3",
   "metadata": {},
   "outputs": [
    {
     "data": {
      "text/plain": [
       "<Axes: xlabel='day'>"
      ]
     },
     "execution_count": 91,
     "metadata": {},
     "output_type": "execute_result"
    },
    {
     "data": {
      "image/png": "[encoded data removed]",
      "text/plain": [
       "<Figure size 640x480 with 1 Axes>"
      ]
     },
     "metadata": {},
     "output_type": "display_data"
    }
   ],
   "source": [
    "df_categorizado[\"day\"].value_counts().plot(kind='bar')"
   ]
  },
  {
   "cell_type": "code",
   "execution_count": 97,
   "id": "180ed2fb-97bf-4b56-8387-4e1c693e71fd",
   "metadata": {},
   "outputs": [
    {
     "data": {
      "text/plain": [
       "<Axes: xlabel='day'>"
      ]
     },
     "execution_count": 97,
     "metadata": {},
     "output_type": "execute_result"
    },
    {
     "data": {
      "image/png": "[encoded data removed]",
      "text/plain": [
       "<Figure size 640x480 with 1 Axes>"
      ]
     },
     "metadata": {},
     "output_type": "display_data"
    }
   ],
   "source": [
    "df_categorizado[\"day\"].value_counts().sort_index().plot(kind='bar')"
   ]
  },
  {
   "cell_type": "code",
   "execution_count": 105,
   "id": "89a743db-aac0-4934-91b8-48749d06e946",
   "metadata": {},
   "outputs": [
    {
     "data": {
      "text/html": [
       "<div>\n",
       "<style scoped>\n",
       "    .dataframe tbody tr th:only-of-type {\n",
       "        vertical-align: middle;\n",
       "    }\n",
       "\n",
       "    .dataframe tbody tr th {\n",
       "        vertical-align: top;\n",
       "    }\n",
       "\n",
       "    .dataframe thead th {\n",
       "        text-align: right;\n",
       "    }\n",
       "</style>\n",
       "<table border=\"1\" class=\"dataframe\">\n",
       "  <thead>\n",
       "    <tr style=\"text-align: right;\">\n",
       "      <th></th>\n",
       "      <th>total_bill</th>\n",
       "      <th>tip</th>\n",
       "      <th>sex</th>\n",
       "      <th>smoker</th>\n",
       "      <th>day</th>\n",
       "      <th>time</th>\n",
       "      <th>size</th>\n",
       "      <th>categoria_tip</th>\n",
       "    </tr>\n",
       "  </thead>\n",
       "  <tbody>\n",
       "    <tr>\n",
       "      <th>0</th>\n",
       "      <td>16.99</td>\n",
       "      <td>1.01</td>\n",
       "      <td>Female</td>\n",
       "      <td>No</td>\n",
       "      <td>Sun</td>\n",
       "      <td>Dinner</td>\n",
       "      <td>2</td>\n",
       "      <td>baixo</td>\n",
       "    </tr>\n",
       "    <tr>\n",
       "      <th>1</th>\n",
       "      <td>10.34</td>\n",
       "      <td>1.66</td>\n",
       "      <td>Male</td>\n",
       "      <td>No</td>\n",
       "      <td>Sun</td>\n",
       "      <td>Dinner</td>\n",
       "      <td>3</td>\n",
       "      <td>baixo</td>\n",
       "    </tr>\n",
       "    <tr>\n",
       "      <th>2</th>\n",
       "      <td>21.01</td>\n",
       "      <td>3.50</td>\n",
       "      <td>Male</td>\n",
       "      <td>No</td>\n",
       "      <td>Sun</td>\n",
       "      <td>Dinner</td>\n",
       "      <td>3</td>\n",
       "      <td>medio</td>\n",
       "    </tr>\n",
       "    <tr>\n",
       "      <th>3</th>\n",
       "      <td>23.68</td>\n",
       "      <td>3.31</td>\n",
       "      <td>Male</td>\n",
       "      <td>No</td>\n",
       "      <td>Sun</td>\n",
       "      <td>Dinner</td>\n",
       "      <td>2</td>\n",
       "      <td>medio</td>\n",
       "    </tr>\n",
       "    <tr>\n",
       "      <th>4</th>\n",
       "      <td>24.59</td>\n",
       "      <td>3.61</td>\n",
       "      <td>Female</td>\n",
       "      <td>No</td>\n",
       "      <td>Sun</td>\n",
       "      <td>Dinner</td>\n",
       "      <td>4</td>\n",
       "      <td>medio</td>\n",
       "    </tr>\n",
       "  </tbody>\n",
       "</table>\n",
       "</div>"
      ],
      "text/plain": [
       "   total_bill   tip     sex smoker  day    time  size categoria_tip\n",
       "0       16.99  1.01  Female     No  Sun  Dinner     2         baixo\n",
       "1       10.34  1.66    Male     No  Sun  Dinner     3         baixo\n",
       "2       21.01  3.50    Male     No  Sun  Dinner     3         medio\n",
       "3       23.68  3.31    Male     No  Sun  Dinner     2         medio\n",
       "4       24.59  3.61  Female     No  Sun  Dinner     4         medio"
      ]
     },
     "execution_count": 105,
     "metadata": {},
     "output_type": "execute_result"
    }
   ],
   "source": [
    "dias_da_semana = ['Mon','Tue','Wed','Thur','Fri','Sat','Sun']\n",
    "df_categorizado[\"day\"] = df_categorizado[\"day\"].cat.set_categories(dias_da_semana, ordered=True)\n",
    "df_categorizado.head()\n"
   ]
  },
  {
   "cell_type": "code",
   "execution_count": 107,
   "id": "823b3c8d-0730-4300-a14b-8185d7881bc5",
   "metadata": {},
   "outputs": [
    {
     "name": "stdout",
     "output_type": "stream",
     "text": [
      "<class 'pandas.core.frame.DataFrame'>\n",
      "RangeIndex: 244 entries, 0 to 243\n",
      "Data columns (total 8 columns):\n",
      " #   Column         Non-Null Count  Dtype   \n",
      "---  ------         --------------  -----   \n",
      " 0   total_bill     244 non-null    float64 \n",
      " 1   tip            244 non-null    float64 \n",
      " 2   sex            244 non-null    category\n",
      " 3   smoker         244 non-null    category\n",
      " 4   day            244 non-null    category\n",
      " 5   time           244 non-null    category\n",
      " 6   size           244 non-null    int64   \n",
      " 7   categoria_tip  244 non-null    category\n",
      "dtypes: category(5), float64(2), int64(1)\n",
      "memory usage: 7.9 KB\n"
     ]
    }
   ],
   "source": [
    "df_categorizado.info()"
   ]
  },
  {
   "cell_type": "code",
   "execution_count": 109,
   "id": "88730aa0-8bbc-4440-8b5c-1532a9b4eec6",
   "metadata": {},
   "outputs": [
    {
     "data": {
      "text/plain": [
       "day\n",
       "Sat     87\n",
       "Sun     76\n",
       "Thur    62\n",
       "Fri     19\n",
       "Mon      0\n",
       "Tue      0\n",
       "Wed      0\n",
       "Name: count, dtype: int64"
      ]
     },
     "execution_count": 109,
     "metadata": {},
     "output_type": "execute_result"
    }
   ],
   "source": [
    "df_categorizado[\"day\"].value_counts()"
   ]
  },
  {
   "cell_type": "code",
   "execution_count": 111,
   "id": "38c947bf-91db-4bf0-bbbf-025f4a87c293",
   "metadata": {},
   "outputs": [
    {
     "data": {
      "text/plain": [
       "day\n",
       "Mon      0\n",
       "Tue      0\n",
       "Wed      0\n",
       "Thur    62\n",
       "Fri     19\n",
       "Sat     87\n",
       "Sun     76\n",
       "Name: count, dtype: int64"
      ]
     },
     "execution_count": 111,
     "metadata": {},
     "output_type": "execute_result"
    }
   ],
   "source": [
    "df_categorizado[\"day\"].value_counts().sort_index()"
   ]
  },
  {
   "cell_type": "code",
   "execution_count": 113,
   "id": "12ad7515-04dd-450d-9ce2-2b188087d31c",
   "metadata": {},
   "outputs": [
    {
     "data": {
      "text/plain": [
       "<Axes: xlabel='day'>"
      ]
     },
     "execution_count": 113,
     "metadata": {},
     "output_type": "execute_result"
    },
    {
     "data": {
      "image/png": "[encoded data removed]",
      "text/plain": [
       "<Figure size 640x480 with 1 Axes>"
      ]
     },
     "metadata": {},
     "output_type": "display_data"
    }
   ],
   "source": [
    "df_categorizado[\"day\"].value_counts().sort_index().plot(kind='bar')"
   ]
  },
  {
   "cell_type": "code",
   "execution_count": 115,
   "id": "c0e7e1f2-bb41-4994-880d-fd0617e1e28d",
   "metadata": {},
   "outputs": [
    {
     "name": "stdout",
     "output_type": "stream",
     "text": [
      "sex: ['Female', 'Male']\n",
      "Categories (2, object): ['Female', 'Male']\n",
      "sex.cat.categories: Index(['Female', 'Male'], dtype='object')\n",
      "sex.cat.ordered: False\n",
      "\n",
      "smoker: ['No', 'Yes']\n",
      "Categories (2, object): ['No', 'Yes']\n",
      "smoker.cat.categories: Index(['No', 'Yes'], dtype='object')\n",
      "smoker.cat.ordered: False\n",
      "\n",
      "day: ['Sun', 'Sat', 'Thur', 'Fri']\n",
      "Categories (7, object): ['Mon' < 'Tue' < 'Wed' < 'Thur' < 'Fri' < 'Sat' < 'Sun']\n",
      "day.cat.categories: Index(['Mon', 'Tue', 'Wed', 'Thur', 'Fri', 'Sat', 'Sun'], dtype='object')\n",
      "day.cat.ordered: True\n",
      "\n",
      "time: ['Dinner', 'Lunch']\n",
      "Categories (2, object): ['Dinner', 'Lunch']\n",
      "time.cat.categories: Index(['Dinner', 'Lunch'], dtype='object')\n",
      "time.cat.ordered: False\n",
      "\n",
      "categoria_tip: ['baixo', 'medio', 'alto']\n",
      "Categories (3, object): ['baixo' < 'medio' < 'alto']\n",
      "categoria_tip.cat.categories: Index(['baixo', 'medio', 'alto'], dtype='object')\n",
      "categoria_tip.cat.ordered: True\n",
      "\n"
     ]
    }
   ],
   "source": [
    "for coluna in df_categorizado.select_dtypes(include=\"category\"):\n",
    "    print(f\"{coluna}: {df_categorizado[coluna].unique()}\")\n",
    "    print(f\"{coluna}.cat.categories: {df_categorizado[coluna].cat.categories}\")\n",
    "    print(f\"{coluna}.cat.ordered: {df_categorizado[coluna].cat.ordered}\")\n",
    "    print()"
   ]
  },
  {
   "cell_type": "code",
   "execution_count": null,
   "id": "a911d1b4-2f90-4cb6-9c78-73c211c9e373",
   "metadata": {},
   "outputs": [],
   "source": [
    "# bins distribui por faixas\n",
    "# pandas cut gera categorias\n",
    "# pode ser ordenado ou não\n",
    "# economia de memoria e processamento\n",
    "# a ordem pode ser alterada posteriormente a criação da categoria\n"
   ]
  }
 ],
 "metadata": {
  "kernelspec": {
   "display_name": "Python 3 (ipykernel)",
   "language": "python",
   "name": "python3"
  },
  "language_info": {
   "codemirror_mode": {
    "name": "ipython",
    "version": 3
   },
   "file_extension": ".py",
   "mimetype": "text/x-python",
   "name": "python",
   "nbconvert_exporter": "python",
   "pygments_lexer": "ipython3",
   "version": "3.12.4"
  }
 },
 "nbformat": 4,
 "nbformat_minor": 5
}
